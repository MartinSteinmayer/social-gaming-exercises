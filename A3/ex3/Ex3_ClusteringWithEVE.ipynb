{
 "cells": [
  {
   "cell_type": "markdown",
   "metadata": {},
   "source": [
    "# Social Computing/Social Gaming\n",
    "\n",
    "# Exercise Sheet 3: Clustering with EVE\n",
    "\n",
    "In this exercise, we will revisit the K-means clustering algorithm from the lecture and apply it to data gathered from the sandbox MMO *EVE Online*. We will explore whether we can find indications for Bartle's player types when applying the algorithm with k=4. As a refresher, Bartle's model posits that players can be divided into 4 groups: Socializers, achievers, explorers and killers.\n",
    "\n",
    "For those of you unfamiliar with EVE, here is a brief explanation that should help in working with the data: In Eve, a player takes control over a clone in a fictional galaxy with a fully-functioning, player-driven economy. There are no set roles, but players usually form alliances and choose roles based on what they like to do most. Much of the game revolves around spaceship combat, but many players concentrate on mining and processing resources which are needed to build ships and stations. Other players enjoy a more lone-wolf style of game and either explore the galaxy or hunt other players. EVE's most unique feature is the doctrine of no safe spaces: There are zones in which killing is prohibited, but the NPC law enforcement does not work as a prevention unit, only as a force of retaliation. This makes preying on new players much easier than in other games that do have safe havens.\n",
    "\n",
    "For a more detailed explanation about this game, we **strongly recommend** that you watch this [YouTube video](https://www.youtube.com/watch?v=D76acXPGK7I) [1] (6 min).\n",
    "\n",
    "If you want to know more about the game or feel that this explanation was not helpful enough, the Wikipedia article about EVE Online is a good place to start.\n",
    "\n",
    "Before the actual task starts, try to think of general behavior patterns that would describe EVE players falling into Bartle's categories. What characterizes achievers? How would you distinguish them from killers?"
   ]
  },
  {
   "cell_type": "markdown",
   "metadata": {},
   "source": [
    "## Task 3.0: The Data\n",
    "\n",
    "Below, you will find the code used to gather the data, given a number of character IDs from the game. **Important: Do not run this code! It only serves as part of the explanation for the data!** We have commented it out for you. \n",
    "\n",
    "For every player, the following information was retrieved:\n",
    "\n",
    "- **soloRatio**: Measures how many kills the player has achieved without the assistance of others (please note that this is not a k/d ratio, and that killing a player is different from destroying a ship). \n",
    "- **secStatus**: An in-game metric that measures the criminal activity: Killing players in safe zones (without a valid reason) lowers the security status\n",
    "- **shipsDestroyed**: The number of ships the character has destroyed (alone or with help of others)\n",
    "- **combatShipsLost**: The amount of ships lost that are classified as combat ships\n",
    "- **miningShipsLost**: These are ships used for harvesting resources and have limited to no combat capabilities\n",
    "- **exploShipsLost**: These ships are used to explore the galaxy and only have limited defensive capabilities\n",
    "- **otherShipsLost**: This category consists of ships that could be considered \"support\" classes: Freighters (i.e. cargo ships), logistics (i.e. a \"healer\" in a typical MMO), etc.\n",
    "\n",
    "Note that losing ships might not always be an indication of what ships players actually use the most (which is what we want to know). It could be possible that some players just never lose a certain type of ship, right? However, given the violent nature of the game and [statistics](http://evemaps.dotlan.net/stats) [2] like these, it is very unlikely.\n",
    "\n",
    "Based on this, we will assume the following regarding the types of players:\n",
    "\n",
    "- **Explorers**: Low kill/death ratio, high use of exploration ships, rather low kill numbers, high security status\n",
    "- **Socializers**: Low kill/death ratio, high security status, low soloRatio, high amount of non-combat ships lost\n",
    "- **Achievers**: High kill/death ratio? (Depends on what you define as \"achieving\")\n",
    "- **Killers**: High kill/death ratio, high soloRatio, low security status, losing virtually only combat ships"
   ]
  },
  {
   "cell_type": "code",
   "execution_count": null,
   "metadata": {},
   "outputs": [],
   "source": [
    "# Important: Do not run this code!\n",
    "# It only serves as part of the explanation for the data! \n",
    "\n",
    "#import json\n",
    "#import urllib\n",
    "#import pandas as pd\n",
    "#import re\n",
    "#import requests\n",
    "#import html\n",
    "#import json\n",
    "#import math\n",
    "\n",
    "\n",
    "# Create the dataframe to store everything in:\n",
    "#columns = ['characterID', 'soloRatio', 'secStatus', 'shipsDestroyed', 'combatShipsLost', 'miningShipsLost', 'exploShipsLost', 'otherShipsLost']\n",
    "#data = pd.DataFrame()\n",
    "#character_IDs = pd.read_csv(r'EVEPlayerStats.csv')\n",
    "#IDList = character_IDs['characterID'].values.tolist()\n",
    "\n",
    "#IDList = IDList[:500]\n",
    "\n",
    "#for characterID in IDList:\n",
    "#     print(characterID)\n",
    "#    end = False;\n",
    "#    i =2;\n",
    "#    combatShips = 0\n",
    "#    exploShips = 0\n",
    "#    miningShips = 0\n",
    "#    otherShips = 0\n",
    "    #Get general info: Name, soloratio, secStatus and handle JSON not existing\n",
    "#    try:\n",
    "#        link = \"https://zkillboard.com/api/stats/characterID/\" + str(characterID) + \"/\"\n",
    "#        f = requests.get(link)\n",
    "#        file= json.loads(f.text)\n",
    "#    except ValueError:\n",
    "#        print(\"\")\n",
    "#    if 'gangRatio' not in file:\n",
    "#        print(\"\")\n",
    "#    else:\n",
    "#        print(file['shipsDestroyed'])\n",
    "#        soloRatio = 100- file['gangRatio']\n",
    "#        info = file['info']\n",
    "#        secStatus = info['secStatus']\n",
    "#        groups = file['groups']\n",
    "\n",
    "        # numbers for groups are already present in the JSON\n",
    "#        frame = pd.DataFrame.from_dict(groups)\n",
    "#        shipLosses =pd.DataFrame(frame.iloc[1])\n",
    "#        for key, value in shipLosses.iterrows():\n",
    "#            if (key == \"25\" or key==\"29\" or key == \"31\" or key == \"1246\" or key == \"1250\" or key == \"311\" or key == \"361\" or key == \"363\" or\n",
    "#            key == \"365\" or key == \"417\" or key == \"471\" or key == \"1025\" or key == \"1249\" or key == \"1273\" or key == \"1276\"):\n",
    "#                #TODO ignore:\n",
    "#                print(\"\")\n",
    "#            elif key == \"380\" or key == \"513\" or key == \"832\" or key == \"1202\" or key == \"1527\":\n",
    "#                if math.isnan(value[0]):\n",
    "#                    otherShips+=0\n",
    "#                else:\n",
    "#                    otherShips+=int(value[0])\n",
    "#            elif key == \"463\" or key == \"543\" or key == \"883\" or key == \"941\" or key == \"1283\":\n",
    "#                if math.isnan(value[0]):\n",
    "#                    miningShips+=0\n",
    "#                else:\n",
    "#                    miningShips+=int(value[0])\n",
    "#            elif key == \"830\":\n",
    "#                if math.isnan(value[0]):\n",
    "#                    exploShips+=0\n",
    "#                else:\n",
    "#                    exploShips+=int(value[0])\n",
    "#            else:\n",
    "#                if math.isnan(value[0]):\n",
    "#                    combatShips+=0\n",
    "#                else:\n",
    "#                    combatShips+=int(value[0])\n",
    "\n",
    "#        data = data.append({'characterID': characterID, 'soloRatio': soloRatio, 'secStatus': secStatus, 'shipsDestroyed': 0, 'combatShipsLost': combatShips, \n",
    "#                            'miningShipsLost': miningShips, 'exploShipsLost': exploShips, 'otherShipsLost': otherShips}, ignore_index = True)\n",
    "    \n",
    "#if len(data) > 0:\n",
    "#    data.to_csv(r'C:\\Users\\jgott\\Documents\\EVEPlayerStatsNew.csv')"
   ]
  },
  {
   "cell_type": "markdown",
   "metadata": {},
   "source": [
    "## Task 3.1: Preparation\n",
    "\n",
    "Now that you are armed with all the knowledge needed, let us begin. \n",
    "\n",
    "**a)** First, **read** the .csv that you downloaded with this exercise into a dataframe.\n",
    "\n",
    "**b)** Then **drop** the `Unnamed: 0` and `characterID` columns. We don't need them."
   ]
  },
  {
   "cell_type": "code",
   "execution_count": null,
   "metadata": {},
   "outputs": [],
   "source": [
    "import numpy as np\n",
    "import pandas as pd\n",
    "import matplotlib.pyplot as plt\n",
    "%matplotlib inline\n",
    "\n",
    "# –––––––––––––––––– Solution –––––––––––––––––––––––\n",
    "\n",
    "# TODO 1: read the EVEPlayerStats.csv file\n",
    "data = #TODO\n",
    "# TODO 2: drop the Unnamed: 0 and characterID columns\n",
    "data = #TODO\n",
    "\n",
    "# ––––––––––––––– End of Solution –––––––––––––––––––"
   ]
  },
  {
   "cell_type": "markdown",
   "metadata": {},
   "source": [
    "### Task 3.2: Normalizing & Clustering\n",
    "\n",
    "As you might have seen, the value ranges differ greatly across the metrics. Where the number of kills can reach up to 10.000, the security status rarely exceeds 5. This creates an imbalance, as the calculation of distance will obviously be impacted a lot more by kill counts than security status. To rectify this and let all metrics influence the result in an equal manner, we need to normalize the data. \n",
    "\n",
    "**a)** **Go through the dataframe and normalize all values to a [0,1] range**\n",
    "\n",
    "**Hint:** Consider negative values in your normalization, the range is **not** [-1,1].\n",
    "\n",
    "There is still one problem with the dataset: Even normalized, the clustering 'favors' those players with higher numbers: For example, where we to posit that explorers have a high amount of exploration ships lost, then a player with 200 lost ships would rather be classified as an explorer than a player with 5 lost ships, even if the former lost 2000 non-exploration ships and the latter lost only 2 non-exploration ships. EVE Online has been around since 2003, so there exist players who have played the game extensively for 13 years, while some others might have played for only 2. To mitigate this, we should look at ratios in ship losses: How big is the percentage of lost combat/exploration/mining/other ships given the total amount of ships lost? \n",
    "\n",
    "**b)** **Convert the normalized absolute numbers into ratios**. Divide the absolute number by the number of all ships lost by a player, this will give you the ratio.  \n",
    "\n",
    "\n",
    "**c)** **Cluster the dataset** with the k-Means algorithm and print out the centroids.\n",
    "\n",
    "**Hint:** For the clustering we will use the k-means algorithm provided by the scikit-learn library. Import the algorithm and use the `fit()` function to let the algorithm do its work. Remember to set the amount of clusters to 4. "
   ]
  },
  {
   "cell_type": "code",
   "execution_count": null,
   "metadata": {},
   "outputs": [],
   "source": [
    "from sklearn.cluster import KMeans\n",
    "import matplotlib.pyplot as plt\n",
    "\n",
    "# TODO 1: Normalize all values to a [0,1] range.\n",
    "\n",
    "# determine minimum value per column\n",
    "minValue = #TODO\n",
    "\n",
    "# normalize values into a [0, inf] intervall\n",
    "for columnName,columnData in data.items():\n",
    "    data[columnName] = #TODO\n",
    "\n",
    "# normalize values into a [0, 1] intervall\n",
    "for columnName,columnData in data.items():\n",
    "    data[columnName] = #TODO\n",
    "    \n",
    "# TODO 2: Convert the normalized absolute numbers into ratios.\n",
    "for index,row in data.iterrows():\n",
    "    #TODO\n",
    "\n",
    "# TODO 3: Cluster the dataset with the k-Means algorithm and print out the centroids.\n",
    "kmeans = #TODO\n"
   ]
  },
  {
   "cell_type": "markdown",
   "metadata": {},
   "source": [
    "**Tutor Note:** Tutors, please be aware that there are multiple ways of implementing this. The solution provided above is just an example. Students may come up with different solutions. As long as the code works as expected and the normalization range is [0,1], the points should be awarded accordingly."
   ]
  },
  {
   "cell_type": "markdown",
   "metadata": {},
   "source": [
    "## Task 3.3: Analyzing the results\n",
    "\n",
    "### **a)** Heatmap\n",
    "\n",
    "Since we have 7 features for each player in total, our datapoints lie in a 7-dimensional space. It can be tricky to read a 7-dimensional graph, so we will first use a heatmap to analyze our data. A heatmap is a data visualization technique that shows the data as color in two dimensions.\n",
    "\n",
    "**1.** Use the seaborn library to **generate a heatmap**. For readability purposes, **display the last 20 players** from the processed dataset **only**.  \n",
    "**Hint:** If you feel like the graph is too small, scale it up a bit.\n",
    "\n",
    "**2.** From these 20 entries, **choose 4** that you think are the most representative for each of Bartle's player groups (one for each group) and **briefly explain** why you chose them based on the heatmap."
   ]
  },
  {
   "cell_type": "code",
   "execution_count": null,
   "metadata": {},
   "outputs": [],
   "source": [
    "import seaborn as sns\n",
    "from sklearn.manifold import TSNE\n",
    "import matplotlib.pyplot as plt\n",
    "\n",
    "# TODO:"
   ]
  },
  {
   "cell_type": "markdown",
   "metadata": {},
   "source": [
    "**TODO 2: Write your observations here**"
   ]
  },
  {
   "cell_type": "markdown",
   "metadata": {},
   "source": [
    "### **b)** t-SNE \n",
    "\n",
    "Heatmaps are nice, but if we want to display large amounts of data, they become unreadable. Therefore, we introduce an algorithm called [t-SNE](http://www.jmlr.org/papers/volume9/vandermaaten08a/vandermaaten08a.pdf) [3] that can transform a high dimensional dataset into a 2 dimensional plot. For more information you can check out the linked paper. For a simple but intuitive explanation have a look at [this video](https://www.youtube.com/watch?v=NEaUSP4YerM) [4]. \n",
    "\n",
    "**1.** **Run the given code to generate a t-SNE graph**. Look at the plot and choose **one** cluster which you want to analyze. From this cluster **choose 2-3 players**, analyze their stats and describe your observations. Can you tell what kind of player type the cluster represents in Bartle's model? Can you explain the meaning of the distance between the clusters?  \n",
    "**Hint**: You can see the assigned clusters for each player with the list `kmeans.labels_`\n",
    "\n",
    "\n",
    "**Note:** If you get the impression that the clustering is not very accurate do not feel discouraged as the data set does not contain enough information about the other activities of the players besides ship killing. "
   ]
  },
  {
   "cell_type": "code",
   "execution_count": null,
   "metadata": {},
   "outputs": [],
   "source": [
    "# For the tutors: use this to get a better overview of the stats\n",
    "from IPython.display import display\n",
    "\n",
    "tempData = data\n",
    "\n",
    "lists = [[], [], [], []]\n",
    "for i, el in enumerate(kmeans.labels_):\n",
    "    lists[el].append(i)\n",
    "\n",
    "display(tempData.iloc[lists[0]].mean(), tempData.iloc[lists[1]].mean(), tempData.iloc[lists[2]].mean(), tempData.iloc[lists[3]].mean())"
   ]
  },
  {
   "cell_type": "code",
   "execution_count": null,
   "metadata": {
    "scrolled": false
   },
   "outputs": [],
   "source": [
    "# t-SNE Graph\n",
    "def tsne(tempData):\n",
    "    tsne = TSNE(n_components=2, random_state=0)\n",
    "    X_2d = tsne.fit_transform(tempData)\n",
    "\n",
    "    new = tempData.copy()\n",
    "    new['tsne-2d-one'] = X_2d[:,0]\n",
    "    new['tsne-2d-two'] = X_2d[:,1]\n",
    "\n",
    "    plt.figure(figsize=(16,10))\n",
    "    sns.scatterplot(\n",
    "        x = \"tsne-2d-one\", y = \"tsne-2d-two\",\n",
    "        hue = kmeans.labels_,\n",
    "        palette = sns.color_palette(\"hls\", 4),\n",
    "        data = new,\n",
    "        legend = \"full\"\n",
    "    )\n",
    "    \n",
    "tsne(tempData)"
   ]
  },
  {
   "cell_type": "markdown",
   "metadata": {},
   "source": [
    "**TODO: Write your observations here**"
   ]
  },
  {
   "cell_type": "markdown",
   "metadata": {},
   "source": [
    "### **b)** DBSCAN and Gaussian Mixture\n",
    "Next look at the Clustering with DBSCAN and Gaussian Mixture Model. Compare these two and k-Means and rite down your observations. "
   ]
  },
  {
   "cell_type": "code",
   "execution_count": null,
   "metadata": {},
   "outputs": [],
   "source": [
    "from sklearn.cluster import DBSCAN\n",
    "# change the parameter if you want\n",
    "clustering = DBSCAN(eps = 0.2, min_samples=10, algorithm='ball_tree').fit(data)\n",
    "\n",
    "tempData2 = data\n",
    "\n",
    "def tsne(tempData):\n",
    "    tsne = TSNE(n_components=2, random_state=0)\n",
    "    X_2d = tsne.fit_transform(tempData)\n",
    "\n",
    "    new = tempData.copy()\n",
    "    new['tsne-2d-one'] = X_2d[:,0]\n",
    "    new['tsne-2d-two'] = X_2d[:,1]\n",
    "\n",
    "    plt.figure(figsize=(16,10))\n",
    "    sns.scatterplot(\n",
    "        x = \"tsne-2d-one\", y = \"tsne-2d-two\",\n",
    "        hue = clustering.labels_,\n",
    "        palette = sns.color_palette(\"hls\", 6),\n",
    "        data = new,\n",
    "        legend = \"full\"\n",
    "    )\n",
    "\n",
    "tsne(tempData2)\n",
    "\n",
    "lists2 = [[], [], [], []]\n",
    "for i, el in enumerate(clustering.labels_):\n",
    "    lists2[el].append(i)\n",
    "display(tempData2.iloc[lists2[0]].mean(), tempData2.iloc[lists2[1]].mean(), tempData2.iloc[lists2[2]].mean(), tempData2.iloc[lists2[3]].mean())"
   ]
  },
  {
   "cell_type": "code",
   "execution_count": null,
   "metadata": {},
   "outputs": [],
   "source": [
    "from sklearn.mixture import GaussianMixture\n",
    "gauss = GaussianMixture(n_components=4, random_state=0).fit(data)\n",
    "\n",
    "tempData3 = data\n",
    "labels3 = gauss.predict(data)\n",
    "\n",
    "tsne = TSNE(n_components=2, random_state=0)\n",
    "X_2d = tsne.fit_transform(tempData3)\n",
    "\n",
    "plt.figure(figsize=(9,7))\n",
    "sns.scatterplot(data=data, \n",
    "                x=X_2d[:,0],\n",
    "                y=X_2d[:,1], \n",
    "                hue=labels3,\n",
    "                palette=sns.color_palette(\"hls\", 4))\n"
   ]
  },
  {
   "cell_type": "markdown",
   "metadata": {},
   "source": [
    "**Compare k-Means, DBSCAN and Gaussian Mixture and write down your findings here:**"
   ]
  },
  {
   "cell_type": "markdown",
   "metadata": {},
   "source": [
    "## References\n",
    "\n",
    "[1] https://www.youtube.com/watch?v=D76acXPGK7I\n",
    "<br>[2] http://evemaps.dotlan.net/stats\n",
    "<br>[3] http://www.jmlr.org/papers/volume9/vandermaaten08a/vandermaaten08a.pdf\n",
    "<br>[4] https://www.youtube.com/watch?v=NEaUSP4YerM"
   ]
  }
 ],
 "metadata": {
  "kernelspec": {
   "display_name": "Python 3 (ipykernel)",
   "language": "python",
   "name": "python3"
  },
  "language_info": {
   "codemirror_mode": {
    "name": "ipython",
    "version": 3
   },
   "file_extension": ".py",
   "mimetype": "text/x-python",
   "name": "python",
   "nbconvert_exporter": "python",
   "pygments_lexer": "ipython3",
   "version": "3.11.5"
  }
 },
 "nbformat": 4,
 "nbformat_minor": 2
}
